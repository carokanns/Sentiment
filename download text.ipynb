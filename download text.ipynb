{
 "cells": [
  {
   "cell_type": "markdown",
   "source": [
    "# Try out different download methods on different news sources"
   ],
   "metadata": {}
  },
  {
   "cell_type": "markdown",
   "source": [
    "## Twitter"
   ],
   "metadata": {}
  },
  {
   "cell_type": "markdown",
   "source": [
    "## Redit"
   ],
   "metadata": {}
  },
  {
   "cell_type": "markdown",
   "source": [
    "## Google news"
   ],
   "metadata": {}
  },
  {
   "cell_type": "markdown",
   "source": [
    "## Other"
   ],
   "metadata": {}
  }
 ],
 "metadata": {
  "orig_nbformat": 4,
  "language_info": {
   "name": "python"
  }
 },
 "nbformat": 4,
 "nbformat_minor": 2
}