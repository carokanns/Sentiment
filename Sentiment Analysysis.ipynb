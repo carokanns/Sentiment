{
 "cells": [
  {
   "cell_type": "markdown",
   "source": [
    "# Try out different sentiment anlysis\r\n",
    "- Find methods\r\n",
    "- Test if they are capable to more or less predict crypto currencies price movement"
   ],
   "metadata": {}
  },
  {
   "cell_type": "code",
   "execution_count": null,
   "source": [
    "# Find methods"
   ],
   "outputs": [],
   "metadata": {}
  }
 ],
 "metadata": {
  "orig_nbformat": 4,
  "language_info": {
   "name": "python"
  }
 },
 "nbformat": 4,
 "nbformat_minor": 2
}